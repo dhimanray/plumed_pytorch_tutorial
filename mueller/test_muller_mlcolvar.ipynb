{
  "nbformat": 4,
  "nbformat_minor": 0,
  "metadata": {
    "colab": {
      "provenance": []
    },
    "kernelspec": {
      "name": "python3",
      "display_name": "Python 3"
    },
    "language_info": {
      "name": "python"
    }
  },
  "cells": [
    {
      "cell_type": "code",
      "execution_count": null,
      "metadata": {
        "id": "HLVBBX-tzm1w"
      },
      "outputs": [],
      "source": [
        "from google.colab import drive\n",
        "drive.mount('/content/drive')"
      ]
    },
    {
      "cell_type": "code",
      "source": [
        "!rm -rf gromacs_and_plumed_pytorch\n",
        "!unzip /content/drive/MyDrive/gromacs_and_plumed_pytorch-20240530T140144Z-001.zip -d ."
      ],
      "metadata": {
        "collapsed": true,
        "id": "nfwYL0Btzz7u"
      },
      "execution_count": null,
      "outputs": []
    },
    {
      "cell_type": "code",
      "source": [
        "!rm -rf plumed_pytorch_tutorial\n",
        "!git clone https://github.com/dhimanray/plumed_pytorch_tutorial.git"
      ],
      "metadata": {
        "id": "HDTc5Df4tt86"
      },
      "execution_count": null,
      "outputs": []
    },
    {
      "cell_type": "markdown",
      "source": [
        "## **Simulation of Toy Model: Mueller Brown Potential**"
      ],
      "metadata": {
        "id": "sk_BhEcQ4H0s"
      }
    },
    {
      "cell_type": "code",
      "source": [
        "\n",
        "#Create the folder with the necessary input files\n",
        "import os\n",
        "path = '/content/plumed_pytorch_tutorial/mueller/'\n",
        "#os.system('rm -r %s'%path)\n",
        "#os.system('mkdir %s'%path)\n",
        "os.system('cd %s'%path)\n",
        "\n",
        "#Copy the MD potential file\n",
        "#os.system('ln -s /content/drive/MyDrive/input_md-potential.dat %s/'%path)\n",
        "\n",
        "#Copy the pytorch file\n",
        "#os.system('ln -s /content/drive/MyDrive/mueller_2state_model.pt %s/'%path)\n",
        "\n",
        "## PLUMED INPUT FILE FOR ENHANCED SAMPLING (MODIFY AS NEEDED) ##\n",
        "plumed_input = \"\"\"\n",
        "UNITS NATURAL\n",
        "\n",
        "p: POSITION ATOM=1\n",
        "mueller: CUSTOM ARG=p.x,p.y PERIODIC=NO ...\n",
        "  FUNC=0.15*(-200*exp(-(x-1)^2-10*y^2)-100*exp(-x^2-10*(y-0.5)^2)-170*exp(-6.5*(0.5+x)^2+11*(x+0.5)*(y-1.5)-6.5*(y-1.5)^2)+15*exp(0.7*(1+x)^2+0.6*(x+1)*(y-1)+0.7*(y-1)^2)+146.7)\n",
        "...\n",
        "potential: BIASVALUE ARG=mueller\n",
        "lwall: LOWER_WALLS ARG=p.x KAPPA=1000 AT=-1.3\n",
        "uwall: UPPER_WALLS ARG=p.x KAPPA=1000 AT=+1.0\n",
        "lwally: LOWER_WALLS ARG=p.y KAPPA=1000 AT=-0.2\n",
        "uwally: UPPER_WALLS ARG=p.y KAPPA=1000 AT=+2.0\n",
        "\n",
        "deepTDA_2D: PYTORCH_MODEL FILE=mueller_2state_model.pt ARG=p.x,p.y\n",
        "\n",
        "opes: OPES_METAD ...\n",
        "  ARG=p.y\n",
        "  PACE=500\n",
        "  BARRIER=30\n",
        "...\n",
        "\n",
        "\n",
        "PRINT FMT=%g STRIDE=50 FILE=COLVAR ARG=p.x,p.y,deepTDA_2D.node-0,mueller,opes.bias\n",
        "\n",
        "\n",
        "ENDPLUMED\"\"\"\n",
        "\n",
        "with open('%s/plumed.dat'%path, 'w') as file:\n",
        "  file.write(plumed_input)\n",
        "\n",
        "##Simulation Input file\n",
        "input_md = \"\"\"\n",
        "nstep             2000000\n",
        "tstep             0.005\n",
        "temperature       1.0\n",
        "friction          10.0\n",
        "random_seed       567\n",
        "plumed_input      plumed.dat\n",
        "dimension         2\n",
        "replicas          1\n",
        "basis_functions_1 BF_POWERS ORDER=1 MINIMUM=-4.0 MAXIMUM=+3.0\n",
        "basis_functions_2 BF_POWERS ORDER=1 MINIMUM=-1.0 MAXIMUM=+2.5\n",
        "input_coeffs       input_md-potential.dat\n",
        "initial_position   -0.693111,1.40842\n",
        "output_coeffs           /dev/null\n",
        "output_potential        /dev/null\n",
        "output_potential_grid   10\n",
        "output_histogram        /dev/null\n",
        "\"\"\"\n",
        "with open('%s/input_md.dat'%path, 'w') as file:\n",
        "  file.write(input_md)\n",
        "\n"
      ],
      "metadata": {
        "id": "wLTKyCwImxfz"
      },
      "execution_count": null,
      "outputs": []
    },
    {
      "cell_type": "code",
      "source": [
        "%%bash\n",
        "##------- source plumed pytorch interface -----------------------\n",
        "rm -r plumed2-master\n",
        "ln -s gromacs_and_plumed_pytorch/plumed2-master .\n",
        "chmod +x plumed2-master/*\n",
        "chmod +x plumed2-master/*/*\n",
        "chmod +x plumed2-master/src/lib/plumed\n",
        "source plumed2-master/libtorch/sourceme.sh\n",
        "source plumed2-master/sourceme.sh\n",
        "##---------------------------------------------------------------\n",
        "\n",
        "##copy toy model files\n",
        "cd /content/plumed_pytorch_tutorial/mueller/\n",
        "\n",
        "cat input_md-potential.dat\n",
        "\n",
        "plumed ves_md_linearexpansion input_md.dat"
      ],
      "metadata": {
        "id": "5YkddrlD-GpB",
        "collapsed": true
      },
      "execution_count": null,
      "outputs": []
    },
    {
      "cell_type": "code",
      "source": [
        "import numpy as np\n",
        "import matplotlib.pyplot as plt\n",
        "import scipy\n",
        "\n",
        "N = 200 #number of points for plotting/interpolation\n",
        "\n",
        "m = 40   #number of contours\n",
        "\n",
        "x, y, z = np.genfromtxt(r'plumed_pytorch_tutorial/mueller/2d_fes', unpack=True)\n",
        "\n",
        "for i in range(len(z)):\n",
        "    if z[i] >= 20.0:\n",
        "        z[i] = 20\n",
        "xi = np.linspace(x.min(), x.max(), N)\n",
        "yi = np.linspace(y.min(), y.max(), N)\n",
        "zi = scipy.interpolate.griddata((x, y), z, (xi[None,:], yi[:,None]), method='cubic')\n",
        "\n",
        "X, Y = np.meshgrid(xi, yi)\n",
        "plt.contour(X,Y,zi,colors='black', linewidths=1)\n",
        "\n",
        "l = np.loadtxt('plumed_pytorch_tutorial/mueller/COLVAR')\n",
        "\n",
        "plt.scatter(l[:,1],l[:,2],c=l[:,4])"
      ],
      "metadata": {
        "id": "nsDlDOSN24O-"
      },
      "execution_count": null,
      "outputs": []
    },
    {
      "cell_type": "code",
      "source": [
        "l = np.loadtxt('plumed_pytorch_tutorial/mueller/COLVAR')\n",
        "\n",
        "plt.scatter(l[:4000,0],l[:4000,2],c=l[:4000,3])"
      ],
      "metadata": {
        "id": "tVSjB9SSAttm"
      },
      "execution_count": null,
      "outputs": []
    },
    {
      "cell_type": "code",
      "source": [
        "#Calculate 1D Free energy profile along x\n",
        "!cd plumed_pytorch_tutorial/mueller && python FES_from_Reweighting.py --colvar COLVAR --cv p.x --kt 1.0 --sigma 0.05 -o fes_x_test"
      ],
      "metadata": {
        "id": "aHPV3Wy7XIvI"
      },
      "execution_count": null,
      "outputs": []
    },
    {
      "cell_type": "code",
      "source": [
        "fes_x_test = np.loadtxt('plumed_pytorch_tutorial/mueller/fes_x_test')\n",
        "fes_x_ref = np.loadtxt('plumed_pytorch_tutorial/mueller/fes_x')\n",
        "\n",
        "plt.plot(fes_x_test[:,0],fes_x_test[:,1])\n",
        "plt.plot(fes_x_ref[:,0],fes_x_ref[:,1])"
      ],
      "metadata": {
        "id": "4u0A66Oqvh_C"
      },
      "execution_count": null,
      "outputs": []
    },
    {
      "cell_type": "code",
      "source": [
        "#Calculate 1D Free energy profile along y axis\n",
        "!cd plumed_pytorch_tutorial/mueller && python FES_from_Reweighting.py --colvar COLVAR --cv p.y --kt 1.0 --sigma 0.05 -o fes_y_test"
      ],
      "metadata": {
        "id": "heWeyC_FwMK9"
      },
      "execution_count": null,
      "outputs": []
    },
    {
      "cell_type": "code",
      "source": [
        "fes_y_test = np.loadtxt('plumed_pytorch_tutorial/mueller/fes_y_test')\n",
        "fes_y_ref = np.loadtxt('plumed_pytorch_tutorial/mueller/fes_y')\n",
        "\n",
        "plt.plot(fes_y_test[:,0],fes_y_test[:,1])\n",
        "plt.plot(fes_y_ref[:,0],fes_y_ref[:,1])"
      ],
      "metadata": {
        "id": "hqlhblkIwMLI"
      },
      "execution_count": null,
      "outputs": []
    },
    {
      "cell_type": "markdown",
      "source": [
        "## **Beginning of the Machine Learning CV discovery**\n",
        "We will do the Deep-TICA CV here"
      ],
      "metadata": {
        "id": "C3RhZZQdy6FQ"
      }
    },
    {
      "cell_type": "code",
      "source": [
        "!pip install -q condacolab\n",
        "import condacolab\n",
        "condacolab.install()"
      ],
      "metadata": {
        "id": "MH7_sdHA0Ri6"
      },
      "execution_count": null,
      "outputs": []
    },
    {
      "cell_type": "code",
      "source": [
        "#Install pytorch and libtorch\n",
        "!conda install pytorch==2.2.2 torchvision==0.17.2 -c pytorch\n"
      ],
      "metadata": {
        "id": "Xl-ZVXPQzD0j"
      },
      "execution_count": null,
      "outputs": []
    },
    {
      "cell_type": "code",
      "source": [
        "import torch\n",
        "print(torch.__version__)"
      ],
      "metadata": {
        "id": "fk4EavQLzagY"
      },
      "execution_count": null,
      "outputs": []
    },
    {
      "cell_type": "code",
      "source": [
        "!pip install mlcolvar"
      ],
      "metadata": {
        "id": "LsKGTccg1iT7"
      },
      "execution_count": null,
      "outputs": []
    },
    {
      "cell_type": "code",
      "source": [
        "\n",
        "import pandas as pd\n",
        "from mlcolvar.utils.io import load_dataframe\n",
        "from mlcolvar.utils.timelagged import create_timelagged_dataset\n",
        "from mlcolvar.data import DictModule\n",
        "\n",
        "from google.colab import drive\n",
        "\n",
        "\n",
        "# load colvar files containing weights of the OPES simulations as well as the driver with the input features\n",
        "df = load_dataframe('plumed_pytorch_tutorial/mueller/COLVAR',\n",
        "                      start=0,stop=10000)\n",
        "\n",
        "\n",
        "df"
      ],
      "metadata": {
        "id": "OfbZ_vdTF_RM"
      },
      "execution_count": null,
      "outputs": []
    },
    {
      "cell_type": "code",
      "execution_count": null,
      "metadata": {
        "id": "4lEf5gTHGt-n"
      },
      "outputs": [],
      "source": [
        "# Select input features\n",
        "X = df.filter(regex='p.x|p.y').values\n",
        "n_input = X.shape[1]\n",
        "\n",
        "print(X.shape)"
      ]
    },
    {
      "cell_type": "markdown",
      "metadata": {
        "id": "FgRW8uBsGt-n"
      },
      "source": [
        "### Create time-lagged dataset"
      ]
    },
    {
      "cell_type": "markdown",
      "metadata": {
        "id": "E6sA7pQqGt-n"
      },
      "source": [
        "**Compute weights for time rescaling**\n",
        "\n",
        "Here we extract the time $t$, the energy $E$ (needed for the multicanonical reweight [1]) and the bias $V$ from the COLVAR file. We then calculate the weights as:\n",
        "\n",
        "\\begin{cases}\n",
        "    w = e^{\\beta\\ V + (\\beta_0-\\beta)\\ E} & \\text{if multicanonical}\\\\\n",
        "    w = e^{\\beta\\ V}              & \\text{otherwise}\n",
        "\\end{cases}\n",
        "\n",
        "NB: note that if simulation temperature $\\beta_0$ is equal to the reweighting one $\\beta$ the multicanonical reweight coincides with the standard umbrella sampling-like case.\n",
        "\n",
        "Once we have computed the weights, we rescale the time at step $k$ by using the instantaneus acceleration:\n",
        "\n",
        "$$ dt'_k = w_k\\ dt $$\n",
        "\n",
        "and then compute the cumulative rescaled time:\n",
        "\n",
        "$$ t'_k = \\sum_{i=0} ^k dt'_i $$\n",
        "\n",
        "\n",
        "\n",
        "[1] Invernizzi, Piaggi, and Parrinello. \"Unified approach to enhanced sampling.\" _Physical Review X_ 10.4 (2020): 041034.\n",
        "\n",
        "\n",
        "---\n",
        "\n",
        "| Parameter | Type | Description |\n",
        "| :- | :- | :- |\n",
        "| multicanonical | bool | flag to determine if using a standard reweight (false) or a multicanonical one (true) |\n",
        "| temp | float | reweighting temperature |\n",
        "| temp0 | float | simulation temperature (only needed if multicanonical == True) |\n",
        "\n",
        "\n"
      ]
    },
    {
      "cell_type": "code",
      "execution_count": null,
      "metadata": {
        "id": "EYuq4fHVGt-o"
      },
      "outputs": [],
      "source": [
        "#------------- PARAMETERS -------------\n",
        "multicanonical    = False\n",
        "temp              = 1.0\n",
        "temp0             = 1.0\n",
        "#--------------------------------------\n",
        "\n",
        "# Calculate inverse temperature\n",
        "kb=1.0\n",
        "beta=1./(kb*temp)\n",
        "beta0=1./(kb*temp0)\n",
        "\n",
        "# Extract cvs from df\n",
        "\n",
        "t = df['time'].values # save time\n",
        "#ene = df['ene'].values.astype(np.float64) # store energy as long double\n",
        "bias = df.filter(regex='.bias').values.sum(axis=1) # Load *.bias columns and sum them\n",
        "\n",
        "# Compute log-weights for time reweighting\n",
        "logweights = beta*bias\n",
        "#logweights = 0.0*bias\n",
        "\n",
        "if multicanonical:\n",
        "    ene -= np.mean(ene) #first shift energy by its mean value\n",
        "    logweights += (beta0-beta)*ene"
      ]
    },
    {
      "cell_type": "markdown",
      "metadata": {
        "id": "BQjwutVgGt-o"
      },
      "source": [
        "In order to train the Deep-TICA CVs we will need to compute the time-lagged covariance matrices in the rescaled time $t'$. The standard way is to look for configurations which are distant a lag-time $\\tau$ in the time series. However, in the rescaled time the time-series is _exponentially_ unevenly spaced. Hence, a naive search will lead to severe numerical issue. To address this, we use the algorithm proposed in [2]. In a nutshell, this method assume that the observable $O(t'_k)$ have the same value from scaled time $t'_k$ to $t'_{k+1}$. This leads to weighting each pair of configurations based both on the rescaled time around $t'_k$ and $t'_k+\\tau$ (see supp. information of [2] for details). All of this is done under the hood in the function `find_time_lagged_configurations`. To generate the training set we use the function `create_time_lagged_dataset` which searches for the pairs of configurations and the corresponding weight.\n",
        "\n",
        "[2] Yang and Parrinello. \"Refining collective coordinates and improving free energy representation in variational enhanced sampling.\" _Journal of chemical theory and computation_ 14.6 (2018): 2889-2894.\n",
        "\n",
        "---\n",
        "\n",
        "| Parameter | Type | Description |\n",
        "| :- | :- | :- |\n",
        "| lag_time | float | lag_time for the calculation of the covariance matrices [in rescaled time] |\n",
        "| n_train | int | number of training configurations |\n",
        "| n_valid | int | number of validation configurations |\n"
      ]
    },
    {
      "cell_type": "code",
      "execution_count": null,
      "metadata": {
        "id": "Avw2Kf7mGt-o"
      },
      "outputs": [],
      "source": [
        "#------------- PARAMETERS -------------\n",
        "lag_time = 1.\n",
        "#--------------------------------------\n",
        "\n",
        "# create dataset\n",
        "dataset = create_timelagged_dataset(X,t,lag_time=lag_time,logweights=logweights,progress_bar=True)\n",
        "\n",
        "# create datamodule (split train valid)\n",
        "datamodule = DictModule(dataset,lengths=[0.8,0.2],random_split=False,shuffle=False)\n",
        "\n",
        "datamodule"
      ]
    },
    {
      "cell_type": "markdown",
      "metadata": {
        "id": "uIXaeswpGt-o"
      },
      "source": [
        "### Define model"
      ]
    },
    {
      "cell_type": "code",
      "execution_count": null,
      "metadata": {
        "id": "2vanZpWzGt-o"
      },
      "outputs": [],
      "source": [
        "from mlcolvar.cvs import DeepTICA\n",
        "\n",
        "n_components = 2\n",
        "nn_layers = [n_input, 10, 10, n_components]\n",
        "options= {'nn': {'activation': 'shifted_softplus'}}\n",
        "\n",
        "model = DeepTICA(nn_layers, options=options)\n",
        "model"
      ]
    },
    {
      "cell_type": "markdown",
      "metadata": {
        "id": "OOUckpXAGt-o"
      },
      "source": [
        "### Define Trainer & Fit"
      ]
    },
    {
      "cell_type": "code",
      "execution_count": null,
      "metadata": {
        "id": "snnU-zxrGt-o"
      },
      "outputs": [],
      "source": [
        "import lightning\n",
        "import torch\n",
        "from lightning.pytorch.callbacks.early_stopping import EarlyStopping\n",
        "from mlcolvar.utils.trainer import MetricsCallback\n",
        "\n",
        "# define callbacks\n",
        "metrics = MetricsCallback()\n",
        "early_stopping = EarlyStopping(monitor=\"valid_loss\", min_delta=1e-3, patience=100)\n",
        "\n",
        "# define trainer\n",
        "trainer = lightning.Trainer(callbacks=[metrics, early_stopping],\n",
        "                     max_epochs=None, logger=None, enable_checkpointing=False)\n",
        "\n",
        "# fit\n",
        "torch.set_float32_matmul_precision('medium')\n",
        "trainer.fit( model, datamodule )"
      ]
    },
    {
      "cell_type": "markdown",
      "metadata": {
        "id": "0z0TEKhCGt-p"
      },
      "source": [
        "We can monitor how the individual eigenvalues are optimized during training."
      ]
    },
    {
      "cell_type": "code",
      "execution_count": null,
      "metadata": {
        "id": "OS9y49_zGt-p"
      },
      "outputs": [],
      "source": [
        "from mlcolvar.utils.plot import plot_metrics\n",
        "\n",
        "ax = plot_metrics(metrics.metrics,\n",
        "                  keys=[x for x in  metrics.metrics.keys() if 'valid_eigval' in x],#['train_loss_epoch','valid_loss'],\n",
        "                  #linestyles=['-.','-'], colors=['fessa1','fessa5'],\n",
        "                  yscale='linear')"
      ]
    },
    {
      "cell_type": "markdown",
      "metadata": {
        "id": "_yPv20nwGt-p"
      },
      "source": [
        "### Normalize output"
      ]
    },
    {
      "cell_type": "markdown",
      "metadata": {
        "id": "OnEuUdfUGt-p"
      },
      "source": [
        "For convenience, we standardize the CVs to be between -1 and 1."
      ]
    },
    {
      "cell_type": "code",
      "execution_count": null,
      "metadata": {
        "id": "8N24BMObGt-p"
      },
      "outputs": [],
      "source": [
        "from mlcolvar.core.transform import Normalization\n",
        "from mlcolvar.core.transform.utils import Statistics\n",
        "\n",
        "#X = dataset[:]['data']\n",
        "with torch.no_grad():\n",
        "    model.postprocessing = None # reset\n",
        "    s = model(torch.Tensor(X))\n",
        "\n",
        "norm =  Normalization(n_components, mode='min_max', stats = Statistics(s) )\n",
        "model.postprocessing = norm"
      ]
    },
    {
      "cell_type": "markdown",
      "metadata": {
        "id": "jbojV1XoGt-p"
      },
      "source": [
        "### Compute FES"
      ]
    },
    {
      "cell_type": "markdown",
      "metadata": {
        "id": "-0x5Mt0IGt-p"
      },
      "source": [
        "We can plot the free energy profile along the selected CVs. First we compute it in the 2D space, from which we learn that the first TICA refers to the transition between two long-lived metastable states, while the second the faster transitions within the left basin."
      ]
    },
    {
      "cell_type": "code",
      "execution_count": null,
      "metadata": {
        "id": "b7q6dGKuGt-p"
      },
      "outputs": [],
      "source": [
        "import numpy as np\n",
        "import matplotlib.pyplot as plt\n",
        "from mlcolvar.utils.fes import compute_fes\n",
        "\n",
        "fig,ax = plt.subplots(1,1,figsize=(6,5),dpi=100)\n",
        "\n",
        "# compute cvs\n",
        "with torch.no_grad():\n",
        "    s = model(torch.Tensor(X)).numpy()\n",
        "\n",
        "w = np.exp(logweights)\n",
        "fes,grid,bounds,error = compute_fes(s,\n",
        "                                    weights=w,\n",
        "                                    blocks=1,\n",
        "                                    bandwidth=0.01, scale_by='range',\n",
        "                                    plot=True, plot_max_fes=50, ax = ax, eps=1e-10)\n",
        "\n",
        "ax.set_xlabel('Deep-TICA 1')\n",
        "ax.set_ylabel('Deep-TICA 2')"
      ]
    },
    {
      "cell_type": "markdown",
      "metadata": {
        "id": "uMg1JF4YGt-p"
      },
      "source": [
        "We can also plot the free energy profiles along each component. From the 2D FES above we understand that for the second CV we need to compute the FES only for the points in which the first CV is < 0, in order to describe the barrier between the faster states."
      ]
    },
    {
      "cell_type": "code",
      "execution_count": null,
      "metadata": {
        "id": "zKN0CwPfGt-p"
      },
      "outputs": [],
      "source": [
        "from mlcolvar.utils.fes import compute_fes\n",
        "\n",
        "fig,axs = plt.subplots(1,n_components,figsize=(6*n_components,5),dpi=100)\n",
        "\n",
        "for i in range(n_components):\n",
        "    w = np.exp(logweights)\n",
        "\n",
        "    # restrict the second CV to the points in which the first is < 0\n",
        "    fes,grid,bounds,error = compute_fes(s[:,i] if i == 0 else s[s[:,0] < 0, i ],\n",
        "                                        weights=w if i == 0 else w[s[:,0] < 0 ],\n",
        "                                        blocks=2,\n",
        "                                        bandwidth=0.02,scale_by='range',\n",
        "                                        plot=True, plot_max_fes=100, ax = axs[i])\n",
        "    axs[i].set_xlabel('Deep-TICA '+str(i+1))"
      ]
    },
    {
      "cell_type": "markdown",
      "metadata": {
        "id": "wYDrSbGHGt-q"
      },
      "source": [
        "Note that the huge uncertainty on the free energy barrier is due to the lack of points between the states in the multithermal simulation."
      ]
    },
    {
      "cell_type": "markdown",
      "metadata": {
        "id": "bokdALgsGt-q"
      },
      "source": [
        "### Plot CVs isolines in $\\phi-\\psi$ space"
      ]
    },
    {
      "cell_type": "markdown",
      "metadata": {
        "id": "gvD6ih5sGt-q"
      },
      "source": [
        "To understand to what states the CVs refer to, we can visualize them in the Ramachandran plot ($\\phi$ and $\\psi$)."
      ]
    },
    {
      "cell_type": "code",
      "execution_count": null,
      "metadata": {
        "id": "DEWP2RloGt-q"
      },
      "outputs": [],
      "source": [
        "# Hexbin plot in physical space\n",
        "fig,axs = plt.subplots(1,n_components,figsize=(6*n_components,5),dpi=100)\n",
        "\n",
        "x = df['p.x'].values\n",
        "y = df['p.y'].values\n",
        "\n",
        "# compute cvs\n",
        "with torch.no_grad():\n",
        "    s = model(torch.Tensor(X)).numpy()\n",
        "\n",
        "for i,ax in enumerate(axs):\n",
        "    pp = ax.hexbin(x,y,C=s[:,i],gridsize=150,cmap='fessa')\n",
        "    cbar = plt.colorbar(pp,ax=ax)\n",
        "    ax.set_title('Deep-TICA '+str(i+1))\n",
        "    ax.set_xlabel(r'p.x')\n",
        "    ax.set_ylabel(r'p.y')\n",
        "    cbar.set_label('Deep-TICA '+str(i+1))\n",
        "\n",
        "plt.tight_layout()\n",
        "plt.show()"
      ]
    },
    {
      "cell_type": "code",
      "source": [
        "## Save the model\n",
        "x = torch.rand(2, dtype=torch.float32, requires_grad=True).unsqueeze(0)\n",
        "traced_cv = torch.jit.trace ( model, example_inputs=x)\n",
        "filename='plumed_pytorch_tutorial/mueller_deeptica.pt'\n",
        "traced_cv.save(filename)"
      ],
      "metadata": {
        "id": "rIntoOedq84g"
      },
      "execution_count": null,
      "outputs": []
    },
    {
      "cell_type": "markdown",
      "source": [
        "## **Simulation using the Deep-TICA CV**"
      ],
      "metadata": {
        "id": "icY3NqVt5Wh-"
      }
    },
    {
      "cell_type": "code",
      "source": [
        "\n",
        "#Create the folder with the necessary input files\n",
        "import os\n",
        "path = '/content/plumed_pytorch_tutorial/mueller_deeptica'\n",
        "#os.system('cd %s'%path)\n",
        "#os.system('echo pwd')\n",
        "os.system('rm -r %s'%path)\n",
        "os.system('mkdir %s'%path)\n",
        "#os.system('cd mueller_deeptica')\n",
        "\n",
        "#Copy the MD potential file\n",
        "os.system('ln -s /content/plumed_pytorch_tutorial/mueller/input_md-potential.dat %s/'%path)\n",
        "\n",
        "#Copy the pytorch file\n",
        "os.system('ln -s /content/plumed_pytorch_tutorial/mueller_deeptica.pt %s/'%path)\n",
        "\n",
        "## PLUMED INPUT FILE FOR ENHANCED SAMPLING (MODIFY AS NEEDED) ##\n",
        "plumed_input = \"\"\"\n",
        "UNITS NATURAL\n",
        "\n",
        "p: POSITION ATOM=1\n",
        "mueller: CUSTOM ARG=p.x,p.y PERIODIC=NO ...\n",
        "  FUNC=0.15*(-200*exp(-(x-1)^2-10*y^2)-100*exp(-x^2-10*(y-0.5)^2)-170*exp(-6.5*(0.5+x)^2+11*(x+0.5)*(y-1.5)-6.5*(y-1.5)^2)+15*exp(0.7*(1+x)^2+0.6*(x+1)*(y-1)+0.7*(y-1)^2)+146.7)\n",
        "...\n",
        "potential: BIASVALUE ARG=mueller\n",
        "lwall: LOWER_WALLS ARG=p.x KAPPA=1000 AT=-1.3\n",
        "uwall: UPPER_WALLS ARG=p.x KAPPA=1000 AT=+1.0\n",
        "lwally: LOWER_WALLS ARG=p.y KAPPA=1000 AT=-0.2\n",
        "uwally: UPPER_WALLS ARG=p.y KAPPA=1000 AT=+2.0\n",
        "\n",
        "deepTICA: PYTORCH_MODEL FILE=mueller_deeptica.pt ARG=p.x,p.y\n",
        "\n",
        "opes: OPES_METAD ...\n",
        "  ARG=deepTICA.node-0\n",
        "  PACE=500\n",
        "  BARRIER=30\n",
        "...\n",
        "\n",
        "\n",
        "PRINT FMT=%g STRIDE=50 FILE=COLVAR ARG=p.x,p.y,deepTICA.node-0,mueller,opes.bias\n",
        "\n",
        "\n",
        "ENDPLUMED\"\"\"\n",
        "\n",
        "with open('%s/plumed.dat'%path, 'w') as file:\n",
        "  file.write(plumed_input)\n",
        "\n",
        "##Simulation Input file\n",
        "input_md = \"\"\"\n",
        "nstep             200000\n",
        "tstep             0.005\n",
        "temperature       1.0\n",
        "friction          10.0\n",
        "random_seed       567\n",
        "plumed_input      plumed.dat\n",
        "dimension         2\n",
        "replicas          1\n",
        "basis_functions_1 BF_POWERS ORDER=1 MINIMUM=-4.0 MAXIMUM=+3.0\n",
        "basis_functions_2 BF_POWERS ORDER=1 MINIMUM=-1.0 MAXIMUM=+2.5\n",
        "input_coeffs       input_md-potential.dat\n",
        "initial_position   -0.693111,1.40842\n",
        "output_coeffs           /dev/null\n",
        "output_potential        /dev/null\n",
        "output_potential_grid   10\n",
        "output_histogram        /dev/null\n",
        "\"\"\"\n",
        "with open('%s/input_md.dat'%path, 'w') as file:\n",
        "  file.write(input_md)"
      ],
      "metadata": {
        "id": "Kmh0QZv55Vdo"
      },
      "execution_count": null,
      "outputs": []
    },
    {
      "cell_type": "code",
      "source": [
        "%%bash\n",
        "##------- source plumed pytorch interface -----------------------\n",
        "rm -r plumed2-master\n",
        "ln -s gromacs_and_plumed_pytorch/plumed2-master .\n",
        "chmod +x plumed2-master/*\n",
        "chmod +x plumed2-master/*/*\n",
        "chmod +x plumed2-master/src/lib/plumed\n",
        "source plumed2-master/libtorch/sourceme.sh\n",
        "source plumed2-master/sourceme.sh\n",
        "##---------------------------------------------------------------\n",
        "\n",
        "##copy toy model files\n",
        "cd /content/plumed_pytorch_tutorial/mueller_deeptica/\n",
        "plumed ves_md_linearexpansion input_md.dat"
      ],
      "metadata": {
        "collapsed": true,
        "id": "hL_GsEEk8v8G"
      },
      "execution_count": null,
      "outputs": []
    },
    {
      "cell_type": "code",
      "source": [
        "import numpy as np\n",
        "import matplotlib.pyplot as plt\n",
        "import scipy\n",
        "\n",
        "N = 200 #number of points for plotting/interpolation\n",
        "\n",
        "m = 40   #number of contours\n",
        "\n",
        "x, y, z = np.genfromtxt(r'plumed_pytorch_tutorial/mueller/2d_fes', unpack=True)\n",
        "\n",
        "for i in range(len(z)):\n",
        "    if z[i] >= 20.0:\n",
        "        z[i] = 20\n",
        "xi = np.linspace(x.min(), x.max(), N)\n",
        "yi = np.linspace(y.min(), y.max(), N)\n",
        "zi = scipy.interpolate.griddata((x, y), z, (xi[None,:], yi[:,None]), method='cubic')\n",
        "\n",
        "X, Y = np.meshgrid(xi, yi)\n",
        "plt.contour(X,Y,zi,colors='black', linewidths=1)\n",
        "\n",
        "l = np.loadtxt('plumed_pytorch_tutorial/mueller_deeptica/COLVAR')\n",
        "\n",
        "plt.scatter(l[:,1],l[:,2],c=l[:,4])"
      ],
      "metadata": {
        "id": "W144jcwF8v8P"
      },
      "execution_count": null,
      "outputs": []
    },
    {
      "cell_type": "code",
      "source": [
        "l = np.loadtxt('plumed_pytorch_tutorial/mueller_deeptica/COLVAR')\n",
        "\n",
        "plt.scatter(l[:,0],l[:,2],c=l[:,3])"
      ],
      "metadata": {
        "id": "LTCCiEhG_4bE"
      },
      "execution_count": null,
      "outputs": []
    },
    {
      "cell_type": "code",
      "source": [
        "#Calculate 1D Free energy profile along x\n",
        "!cd plumed_pytorch_tutorial/mueller_deeptica && python ../mueller/FES_from_Reweighting.py --colvar COLVAR --cv p.x --kt 1.0 --sigma 0.05 -o fes_x_test"
      ],
      "metadata": {
        "id": "M7g4KDuh8v8P"
      },
      "execution_count": null,
      "outputs": []
    },
    {
      "cell_type": "code",
      "source": [
        "fes_x_test = np.loadtxt('plumed_pytorch_tutorial/mueller_deeptica/fes_x_test')\n",
        "fes_x_ref = np.loadtxt('plumed_pytorch_tutorial/mueller/fes_x')\n",
        "\n",
        "plt.plot(fes_x_test[:,0],fes_x_test[:,1])\n",
        "plt.plot(fes_x_ref[:,0],fes_x_ref[:,1])"
      ],
      "metadata": {
        "id": "34-6aSkA8v8P"
      },
      "execution_count": null,
      "outputs": []
    },
    {
      "cell_type": "code",
      "source": [
        "#Calculate 1D Free energy profile along y axis\n",
        "!cd plumed_pytorch_tutorial/mueller_deeptica && python ../mueller/FES_from_Reweighting.py --colvar COLVAR --cv p.y --kt 1.0 --sigma 0.05 -o fes_y_test"
      ],
      "metadata": {
        "id": "ofFWVDLl8v8P"
      },
      "execution_count": null,
      "outputs": []
    },
    {
      "cell_type": "code",
      "source": [
        "fes_y_test = np.loadtxt('plumed_pytorch_tutorial/mueller_deeptica/fes_y_test')\n",
        "fes_y_ref = np.loadtxt('plumed_pytorch_tutorial/mueller/fes_y')\n",
        "\n",
        "plt.plot(fes_y_test[:,0],fes_y_test[:,1])\n",
        "plt.plot(fes_y_ref[:,0],fes_y_ref[:,1])"
      ],
      "metadata": {
        "id": "frHuf1hQ8v8Q"
      },
      "execution_count": null,
      "outputs": []
    },
    {
      "cell_type": "code",
      "source": [],
      "metadata": {
        "id": "fQTaT4lt7ubI"
      },
      "execution_count": null,
      "outputs": []
    }
  ]
}