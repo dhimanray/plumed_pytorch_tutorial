{
  "nbformat": 4,
  "nbformat_minor": 0,
  "metadata": {
    "colab": {
      "provenance": []
    },
    "kernelspec": {
      "name": "python3",
      "display_name": "Python 3"
    },
    "language_info": {
      "name": "python"
    }
  },
  "cells": [
    {
      "cell_type": "markdown",
      "source": [
        "Install Conda"
      ],
      "metadata": {
        "id": "YIlVL4XttdhY"
      }
    },
    {
      "cell_type": "code",
      "source": [
        "!pip install -q condacolab\n",
        "import condacolab\n",
        "condacolab.install()"
      ],
      "metadata": {
        "id": "HEpdJKDdthEs"
      },
      "execution_count": null,
      "outputs": []
    },
    {
      "cell_type": "code",
      "source": [
        "!conda --version"
      ],
      "metadata": {
        "id": "pATA3PWati4V"
      },
      "execution_count": null,
      "outputs": []
    },
    {
      "cell_type": "markdown",
      "source": [
        "Install Plumed and Gromacs from conda for Masterclass tutorials"
      ],
      "metadata": {
        "id": "BWt-F9eOuDwJ"
      }
    },
    {
      "cell_type": "code",
      "source": [
        "!conda install numpy pandas\n",
        "!conda install -c conda-forge plumed py-plumed\n",
        "!conda install --strict-channel-priority -c plumed/label/masterclass -c conda-forge gromacs"
      ],
      "metadata": {
        "id": "G3FRJnoDuBQw"
      },
      "execution_count": null,
      "outputs": []
    },
    {
      "cell_type": "markdown",
      "source": [
        "**From GitHub, download the tutorial files**"
      ],
      "metadata": {
        "id": "g6ZvEXty1m41"
      }
    },
    {
      "cell_type": "code",
      "source": [
        "!rm -rf plumed_pytorch_tutorial\n",
        "!git clone https://github.com/dhimanray/plumed_pytorch_tutorial.git"
      ],
      "metadata": {
        "id": "snVaNpQgn8Hy"
      },
      "execution_count": null,
      "outputs": []
    },
    {
      "cell_type": "markdown",
      "source": [
        "**First write the MD simulation input file and the PLUMED input file**"
      ],
      "metadata": {
        "id": "UKq1vYPzw8Z3"
      }
    },
    {
      "cell_type": "code",
      "source": [
        "path = 'plumed_pytorch_tutorial/ala2/'\n",
        "\n",
        "##MD simulation input file:\n",
        "md_input = \"\"\"\n",
        ";       Input file\n",
        "define              =\n",
        "; integrator\n",
        "integrator          =  md        ;#Perform Molecular Dynamics\n",
        "nsteps              =  200000      ;#Number of simulation steps\n",
        "dt                  =  0.002     ;#Integration timestep in ps\n",
        "cutoff-scheme       =  verlet    ;#velocity verlet algorithm\n",
        ";\n",
        "; removing CM translation and rotation\n",
        "comm_mode           =  Linear\n",
        "nstcomm             =  1000\n",
        ";\n",
        "; output control\n",
        "nstlog                   = 5000\n",
        "nstenergy                = 5000\n",
        "nstxout                  = 0\n",
        "nstvout                  = 0\n",
        "nstfout                  = 0\n",
        "nstxout-compressed       = 500   ;#save trajectory every 500 steps\n",
        ";\n",
        "; neighbour searching\n",
        ";nstlist             = 0\n",
        ";ns-type             = simple\n",
        "pbc                 = xyz\n",
        ";rlist               = 1.0\n",
        "periodic_molecules  = no\n",
        ";\n",
        "; electrostatic\n",
        "rcoulomb            = 1.0\n",
        "coulombtype         = Cut-off\n",
        ";\n",
        "; vdw\n",
        "vdw-type            = Cut-off\n",
        "rvdw                = 1.0\n",
        ";\n",
        "; constraints\n",
        "constraints              = h-bonds\n",
        "constraint-algorithm     = lincs\n",
        "lincs_iter               = 4\n",
        ";\n",
        "; temperature (use thermostat to contol temperature)\n",
        "Tcoupl              = v-rescale\n",
        "tc_grps             = system\n",
        "tau_t               = 0.1\n",
        "ref_t               = 300.000\n",
        ";\n",
        "; pression\n",
        "Pcoupl              =  no\n",
        ";\n",
        "; initial velocities (generate velocities at the beginning)\n",
        "gen_vel             = yes\n",
        "gen_temp            = 300.000\n",
        "gen_seed            = -1\n",
        "\n",
        "\"\"\"\n",
        "with open(path+'md.mdp', 'w') as file:\n",
        "  file.write(md_input)\n",
        "\n",
        "## PLUMED INPUT FILE FOR ENHANCED SAMPLING ##\n",
        "plumed_input = \"\"\"\n",
        "phi: TORSION ATOMS=5,7,9,15\n",
        "psi: TORSION ATOMS=7,9,15,17\n",
        "theta: TORSION ATOMS=6,5,7,9\n",
        "\n",
        "cosphi: MATHEVAL ARG=phi FUNC=cos(x) PERIODIC=NO\n",
        "cospsi: MATHEVAL ARG=psi FUNC=cos(x) PERIODIC=NO\n",
        "costheta: MATHEVAL ARG=theta FUNC=cos(x) PERIODIC=NO\n",
        "\n",
        "\n",
        "meta: METAD ARG=phi PACE=100 HEIGHT=1.5 SIGMA=0.1 BIASFACTOR=10\n",
        "\n",
        "PRINT FMT=%g STRIDE=100 FILE=COLVAR ARG=*\n",
        "\n",
        "ENDPLUMED\n",
        "\"\"\"\n",
        "\n",
        "with open(path+'plumed.dat', 'w') as file:\n",
        "  file.write(plumed_input)\n",
        "\n"
      ],
      "metadata": {
        "id": "wrqYhy3kwQO9"
      },
      "execution_count": null,
      "outputs": []
    },
    {
      "cell_type": "markdown",
      "source": [
        "**Run Molecular Dynamics Simulation with GROMACS**"
      ],
      "metadata": {
        "id": "Yoyu6XSa19_r"
      }
    },
    {
      "cell_type": "code",
      "source": [
        "## COMMAND FOR RUNNING MOLECULAR DYNAMICS SIMULATION USING GROMACS\n",
        "%%bash\n",
        "cd plumed_pytorch_tutorial/ala2\n",
        "gmx grompp -f md.mdp -c config.gro -p topol.top -o input.tpr\n",
        "gmx mdrun -s input.tpr -deffnm alanine -plumed plumed.dat"
      ],
      "metadata": {
        "id": "-_UPbdkXqbRI"
      },
      "execution_count": null,
      "outputs": []
    },
    {
      "cell_type": "markdown",
      "source": [
        "**Perform plotting and analysis**"
      ],
      "metadata": {
        "id": "XH5RqfV42GC7"
      }
    },
    {
      "cell_type": "code",
      "source": [
        "import numpy as np\n",
        "import matplotlib.pyplot as plt\n",
        "import scipy\n",
        "from scipy import interpolate\n",
        "\n",
        "N = 50 #number of points for plotting/interpolation\n",
        "\n",
        "m = 15   #number of contours\n",
        "\n",
        "x, y, z = np.genfromtxt(r'/content/plumed_pytorch_tutorial/ala2/2d_fes_ref', unpack=True)\n",
        "\n",
        "for i in range(len(z)):\n",
        "    if z[i] >= 50.0:\n",
        "        z[i] = 50\n",
        "xi = np.linspace(x.min(), x.max(), N)\n",
        "yi = np.linspace(y.min(), y.max(), N)\n",
        "zi = scipy.interpolate.griddata((x, y), z, (xi[None,:], yi[:,None]), method='cubic')\n",
        "\n",
        "X, Y = np.meshgrid(xi, yi)\n",
        "plt.contour(X,Y,zi,colors='black', linewidths=1)\n",
        "\n",
        "l = np.loadtxt('/content/plumed_pytorch_tutorial/ala2/COLVAR')\n",
        "\n",
        "plt.scatter(l[:,1],l[:,2],c=l[:,0])\n",
        "plt.xlabel('$\\phi$ (rad)',fontsize=16)\n",
        "plt.ylabel('$\\psi$ (rad)',fontsize=16)\n",
        "#plt.legend(fontsize=12)"
      ],
      "metadata": {
        "id": "OAqP2vz1ydkr"
      },
      "execution_count": null,
      "outputs": []
    },
    {
      "cell_type": "code",
      "source": [
        "l = np.loadtxt('/content/plumed_pytorch_tutorial/ala2/COLVAR')\n",
        "\n",
        "plt.scatter(l[:,0],l[:,1],c=l[:,2])\n",
        "plt.xlabel('Simulation Time (ps)',fontsize=16)\n",
        "plt.ylabel('$\\phi$ (rad)',fontsize=16)"
      ],
      "metadata": {
        "id": "RKX8etIp08rF"
      },
      "execution_count": null,
      "outputs": []
    },
    {
      "cell_type": "code",
      "source": [
        "#Compute the Free Energy Landscape\n",
        "!cd plumed_pytorch_tutorial/ala2 && plumed sum_hills --hills HILLS --kt 2.48 --mintozero\n",
        "\n",
        "#Plot the free energy landscape\n",
        "fes = np.loadtxt('plumed_pytorch_tutorial/ala2/fes.dat')\n",
        "ref_fes = np.loadtxt('/content/plumed_pytorch_tutorial/ala2/1d_fes_phi_ref')\n",
        "plt.plot(fes[:,0],fes[:,1],label='this work')\n",
        "plt.plot(ref_fes[:,0],ref_fes[:,1],label='reference')\n",
        "\n",
        "plt.xlabel('$\\phi$ (rad)',fontsize=16)\n",
        "plt.ylabel('Free Energy (kJ/mol)',fontsize=16)\n",
        "plt.legend(fontsize=12)"
      ],
      "metadata": {
        "id": "ffGQoDHG48w5"
      },
      "execution_count": null,
      "outputs": []
    },
    {
      "cell_type": "code",
      "source": [
        "#CALCULATE FREE ENERGY FROM REWEIGHTING\n",
        "\n",
        "!cd /content/plumed_pytorch_tutorial/ala2 && python FES_from_Reweighting.py --colvar COLVAR --cv phi --sigma 0.05 --temp 300 -o 1d_fes_phi\n",
        "!cd /content/plumed_pytorch_tutorial/ala2 && python FES_from_Reweighting.py --colvar COLVAR --cv psi --sigma 0.05 --temp 300 -o 1d_fes_psi\n",
        "\n",
        "fesphi = np.loadtxt('/content/plumed_pytorch_tutorial/ala2/1d_fes_phi')\n",
        "fesphi_ref = np.loadtxt('/content/plumed_pytorch_tutorial/ala2/1d_fes_phi_ref')\n",
        "\n",
        "plt.figure()\n",
        "plt.plot(fesphi[:,0],fesphi[:,1],label='this work')\n",
        "plt.plot(fesphi_ref[:,0],fesphi_ref[:,1],label='reference')\n",
        "plt.xlabel('$\\phi$ (rad)',fontsize=16)\n",
        "plt.ylabel('Free Energy (kJ/mol)',fontsize=16)\n",
        "plt.legend(fontsize=12)\n",
        "\n",
        "fespsi = np.loadtxt('/content/plumed_pytorch_tutorial/ala2/1d_fes_psi')\n",
        "fespsi_ref = np.loadtxt('/content/plumed_pytorch_tutorial/ala2/1d_fes_psi_ref')\n",
        "\n",
        "plt.figure()\n",
        "plt.plot(fespsi[:,0],fespsi[:,1],label='this work')\n",
        "plt.plot(fespsi_ref[:,0],fespsi_ref[:,1],label='reference')\n",
        "plt.xlabel('$\\psi$ (rad)',fontsize=16)\n",
        "plt.ylabel('Free Energy (kJ/mol)',fontsize=16)\n",
        "plt.legend(fontsize=12)"
      ],
      "metadata": {
        "id": "gCpZCNL65eRb"
      },
      "execution_count": null,
      "outputs": []
    }
  ]
}